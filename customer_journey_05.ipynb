{
 "cells": [
  {
   "cell_type": "code",
   "execution_count": 137,
   "metadata": {},
   "outputs": [],
   "source": [
    "import pandas as pd\n",
    "import matplotlib.pyplot as plt\n",
    "import seaborn as sns\n",
    "import numpy as np\n",
    "import warnings\n",
    "warnings.filterwarnings('ignore')"
   ]
  },
  {
   "cell_type": "code",
   "execution_count": 138,
   "metadata": {},
   "outputs": [],
   "source": [
    "df1 = pd.read_csv('monday.csv', sep = \";\")\n",
    "df2 = pd.read_csv('tuesday.csv', sep = \";\")\n",
    "df3 = pd.read_csv('wednesday.csv', sep = \";\")\n",
    "df4 = pd.read_csv('thursday.csv', sep = \";\")\n",
    "df5 = pd.read_csv('friday.csv', sep = \";\")"
   ]
  },
  {
   "cell_type": "code",
   "execution_count": 139,
   "metadata": {},
   "outputs": [],
   "source": [
    "df = pd.concat([df1, df2, df3, df4, df5], ignore_index=True)"
   ]
  },
  {
   "cell_type": "code",
   "execution_count": 140,
   "metadata": {},
   "outputs": [],
   "source": [
    "df_unique = pd.read_csv('df_unique.csv', index_col=None)\n",
    "df_unique.drop('Unnamed: 0', axis=1, inplace=True)"
   ]
  },
  {
   "cell_type": "code",
   "execution_count": 141,
   "metadata": {},
   "outputs": [],
   "source": [
    "# 5. Simulate a single customer\n",
    "# 5.1 create transition probability matrix"
   ]
  },
  {
   "cell_type": "code",
   "execution_count": 142,
   "metadata": {},
   "outputs": [],
   "source": [
    "# create table with transition for each timestamp \n",
    "# two columns (from-->to)\n",
    "# concat/append this yourney for each customer\n",
    "# count individual transitions from each location \n",
    "# (from fruit -> drinks (87 people in total)\n",
    "# (from fruit -> spices (45 people in total) ...\n",
    "# those are the probabilities for each location)"
   ]
  },
  {
   "cell_type": "code",
   "execution_count": 143,
   "metadata": {},
   "outputs": [],
   "source": [
    "df_journey = df_unique.groupby(['customer_unique', 'location', 'date']).count().sort_values(by = ['customer_unique', 'date'])"
   ]
  },
  {
   "cell_type": "code",
   "execution_count": 144,
   "metadata": {},
   "outputs": [],
   "source": [
    "entry_point = df_journey.reset_index(1).index.get_level_values(level=0).unique()"
   ]
  },
  {
   "cell_type": "code",
   "execution_count": 145,
   "metadata": {},
   "outputs": [],
   "source": [
    "entry_list= []\n",
    "for i in entry_point:\n",
    "    entry_list.append(df_journey.reset_index(1).xs(i)['location'][0])"
   ]
  },
  {
   "cell_type": "code",
   "execution_count": 146,
   "metadata": {},
   "outputs": [],
   "source": [
    "df_journey.reset_index(inplace=True)"
   ]
  },
  {
   "cell_type": "code",
   "execution_count": 147,
   "metadata": {},
   "outputs": [],
   "source": [
    "# count entry location\n",
    "import collections\n",
    "entry_dict = collections.Counter(entry_list)"
   ]
  },
  {
   "cell_type": "code",
   "execution_count": 148,
   "metadata": {},
   "outputs": [],
   "source": [
    "entry_p = []\n",
    "for i in list(entry_dict.values()):\n",
    "    entry_p.append(i/(sum(entry_dict.values())))"
   ]
  },
  {
   "cell_type": "code",
   "execution_count": 149,
   "metadata": {},
   "outputs": [],
   "source": [
    "states_ = ['fruit', 'dairy', 'spices', 'drinks']"
   ]
  },
  {
   "cell_type": "code",
   "execution_count": 150,
   "metadata": {},
   "outputs": [
    {
     "data": {
      "text/plain": [
       "[('fruit', 0.3774345198119543),\n",
       " ('dairy', 0.2875755540631296),\n",
       " ('spices', 0.18146406984553393),\n",
       " ('drinks', 0.15352585627938214)]"
      ]
     },
     "execution_count": 150,
     "metadata": {},
     "output_type": "execute_result"
    }
   ],
   "source": [
    "entry_dic = zip(states_,entry_p)\n",
    "list(entry_dic)"
   ]
  },
  {
   "cell_type": "code",
   "execution_count": 151,
   "metadata": {},
   "outputs": [
    {
     "data": {
      "text/plain": [
       "1.0"
      ]
     },
     "execution_count": 151,
     "metadata": {},
     "output_type": "execute_result"
    }
   ],
   "source": [
    "sum(entry_p)"
   ]
  },
  {
   "cell_type": "code",
   "execution_count": 152,
   "metadata": {},
   "outputs": [],
   "source": [
    "df_trans = df_journey[['location']]"
   ]
  },
  {
   "cell_type": "code",
   "execution_count": 153,
   "metadata": {},
   "outputs": [],
   "source": [
    "df_trans['_to']  = df_journey[['location']].shift(periods=-1, fill_value='checkout')"
   ]
  },
  {
   "cell_type": "code",
   "execution_count": 154,
   "metadata": {},
   "outputs": [],
   "source": [
    "indexlist = df_trans[df_trans['location'] == 'checkout'].index\n",
    "df_trans.drop(indexlist, inplace=True)\n",
    "df_trans['transition'] = df_trans['location'] + \"_\" + df_trans['_to']"
   ]
  },
  {
   "cell_type": "code",
   "execution_count": 224,
   "metadata": {},
   "outputs": [
    {
     "data": {
      "text/html": [
       "<div>\n",
       "<style scoped>\n",
       "    .dataframe tbody tr th:only-of-type {\n",
       "        vertical-align: middle;\n",
       "    }\n",
       "\n",
       "    .dataframe tbody tr th {\n",
       "        vertical-align: top;\n",
       "    }\n",
       "\n",
       "    .dataframe thead th {\n",
       "        text-align: right;\n",
       "    }\n",
       "</style>\n",
       "<table border=\"1\" class=\"dataframe\">\n",
       "  <thead>\n",
       "    <tr style=\"text-align: right;\">\n",
       "      <th></th>\n",
       "      <th>location</th>\n",
       "      <th>_to</th>\n",
       "      <th>transition</th>\n",
       "      <th>trans_fac</th>\n",
       "    </tr>\n",
       "  </thead>\n",
       "  <tbody>\n",
       "    <tr>\n",
       "      <th>0</th>\n",
       "      <td>fruit</td>\n",
       "      <td>checkout</td>\n",
       "      <td>fruit_checkout</td>\n",
       "      <td>0</td>\n",
       "    </tr>\n",
       "    <tr>\n",
       "      <th>2</th>\n",
       "      <td>dairy</td>\n",
       "      <td>dairy</td>\n",
       "      <td>dairy_dairy</td>\n",
       "      <td>1</td>\n",
       "    </tr>\n",
       "    <tr>\n",
       "      <th>3</th>\n",
       "      <td>dairy</td>\n",
       "      <td>dairy</td>\n",
       "      <td>dairy_dairy</td>\n",
       "      <td>1</td>\n",
       "    </tr>\n",
       "    <tr>\n",
       "      <th>4</th>\n",
       "      <td>dairy</td>\n",
       "      <td>dairy</td>\n",
       "      <td>dairy_dairy</td>\n",
       "      <td>1</td>\n",
       "    </tr>\n",
       "    <tr>\n",
       "      <th>5</th>\n",
       "      <td>dairy</td>\n",
       "      <td>dairy</td>\n",
       "      <td>dairy_dairy</td>\n",
       "      <td>1</td>\n",
       "    </tr>\n",
       "    <tr>\n",
       "      <th>6</th>\n",
       "      <td>dairy</td>\n",
       "      <td>dairy</td>\n",
       "      <td>dairy_dairy</td>\n",
       "      <td>1</td>\n",
       "    </tr>\n",
       "    <tr>\n",
       "      <th>7</th>\n",
       "      <td>dairy</td>\n",
       "      <td>drinks</td>\n",
       "      <td>dairy_drinks</td>\n",
       "      <td>2</td>\n",
       "    </tr>\n",
       "    <tr>\n",
       "      <th>8</th>\n",
       "      <td>drinks</td>\n",
       "      <td>checkout</td>\n",
       "      <td>drinks_checkout</td>\n",
       "      <td>3</td>\n",
       "    </tr>\n",
       "    <tr>\n",
       "      <th>10</th>\n",
       "      <td>spices</td>\n",
       "      <td>spices</td>\n",
       "      <td>spices_spices</td>\n",
       "      <td>4</td>\n",
       "    </tr>\n",
       "    <tr>\n",
       "      <th>11</th>\n",
       "      <td>spices</td>\n",
       "      <td>spices</td>\n",
       "      <td>spices_spices</td>\n",
       "      <td>4</td>\n",
       "    </tr>\n",
       "    <tr>\n",
       "      <th>12</th>\n",
       "      <td>spices</td>\n",
       "      <td>dairy</td>\n",
       "      <td>spices_dairy</td>\n",
       "      <td>5</td>\n",
       "    </tr>\n",
       "    <tr>\n",
       "      <th>13</th>\n",
       "      <td>dairy</td>\n",
       "      <td>dairy</td>\n",
       "      <td>dairy_dairy</td>\n",
       "      <td>1</td>\n",
       "    </tr>\n",
       "    <tr>\n",
       "      <th>14</th>\n",
       "      <td>dairy</td>\n",
       "      <td>dairy</td>\n",
       "      <td>dairy_dairy</td>\n",
       "      <td>1</td>\n",
       "    </tr>\n",
       "    <tr>\n",
       "      <th>15</th>\n",
       "      <td>dairy</td>\n",
       "      <td>drinks</td>\n",
       "      <td>dairy_drinks</td>\n",
       "      <td>2</td>\n",
       "    </tr>\n",
       "    <tr>\n",
       "      <th>16</th>\n",
       "      <td>drinks</td>\n",
       "      <td>drinks</td>\n",
       "      <td>drinks_drinks</td>\n",
       "      <td>6</td>\n",
       "    </tr>\n",
       "    <tr>\n",
       "      <th>17</th>\n",
       "      <td>drinks</td>\n",
       "      <td>drinks</td>\n",
       "      <td>drinks_drinks</td>\n",
       "      <td>6</td>\n",
       "    </tr>\n",
       "    <tr>\n",
       "      <th>18</th>\n",
       "      <td>drinks</td>\n",
       "      <td>drinks</td>\n",
       "      <td>drinks_drinks</td>\n",
       "      <td>6</td>\n",
       "    </tr>\n",
       "    <tr>\n",
       "      <th>19</th>\n",
       "      <td>drinks</td>\n",
       "      <td>checkout</td>\n",
       "      <td>drinks_checkout</td>\n",
       "      <td>3</td>\n",
       "    </tr>\n",
       "    <tr>\n",
       "      <th>21</th>\n",
       "      <td>fruit</td>\n",
       "      <td>dairy</td>\n",
       "      <td>fruit_dairy</td>\n",
       "      <td>7</td>\n",
       "    </tr>\n",
       "    <tr>\n",
       "      <th>22</th>\n",
       "      <td>dairy</td>\n",
       "      <td>dairy</td>\n",
       "      <td>dairy_dairy</td>\n",
       "      <td>1</td>\n",
       "    </tr>\n",
       "    <tr>\n",
       "      <th>23</th>\n",
       "      <td>dairy</td>\n",
       "      <td>dairy</td>\n",
       "      <td>dairy_dairy</td>\n",
       "      <td>1</td>\n",
       "    </tr>\n",
       "    <tr>\n",
       "      <th>24</th>\n",
       "      <td>dairy</td>\n",
       "      <td>checkout</td>\n",
       "      <td>dairy_checkout</td>\n",
       "      <td>8</td>\n",
       "    </tr>\n",
       "    <tr>\n",
       "      <th>26</th>\n",
       "      <td>spices</td>\n",
       "      <td>dairy</td>\n",
       "      <td>spices_dairy</td>\n",
       "      <td>5</td>\n",
       "    </tr>\n",
       "    <tr>\n",
       "      <th>27</th>\n",
       "      <td>dairy</td>\n",
       "      <td>dairy</td>\n",
       "      <td>dairy_dairy</td>\n",
       "      <td>1</td>\n",
       "    </tr>\n",
       "    <tr>\n",
       "      <th>28</th>\n",
       "      <td>dairy</td>\n",
       "      <td>dairy</td>\n",
       "      <td>dairy_dairy</td>\n",
       "      <td>1</td>\n",
       "    </tr>\n",
       "    <tr>\n",
       "      <th>29</th>\n",
       "      <td>dairy</td>\n",
       "      <td>dairy</td>\n",
       "      <td>dairy_dairy</td>\n",
       "      <td>1</td>\n",
       "    </tr>\n",
       "    <tr>\n",
       "      <th>30</th>\n",
       "      <td>dairy</td>\n",
       "      <td>dairy</td>\n",
       "      <td>dairy_dairy</td>\n",
       "      <td>1</td>\n",
       "    </tr>\n",
       "    <tr>\n",
       "      <th>31</th>\n",
       "      <td>dairy</td>\n",
       "      <td>dairy</td>\n",
       "      <td>dairy_dairy</td>\n",
       "      <td>1</td>\n",
       "    </tr>\n",
       "    <tr>\n",
       "      <th>32</th>\n",
       "      <td>dairy</td>\n",
       "      <td>dairy</td>\n",
       "      <td>dairy_dairy</td>\n",
       "      <td>1</td>\n",
       "    </tr>\n",
       "    <tr>\n",
       "      <th>33</th>\n",
       "      <td>dairy</td>\n",
       "      <td>dairy</td>\n",
       "      <td>dairy_dairy</td>\n",
       "      <td>1</td>\n",
       "    </tr>\n",
       "    <tr>\n",
       "      <th>...</th>\n",
       "      <td>...</td>\n",
       "      <td>...</td>\n",
       "      <td>...</td>\n",
       "      <td>...</td>\n",
       "    </tr>\n",
       "    <tr>\n",
       "      <th>53869</th>\n",
       "      <td>dairy</td>\n",
       "      <td>dairy</td>\n",
       "      <td>dairy_dairy</td>\n",
       "      <td>1</td>\n",
       "    </tr>\n",
       "    <tr>\n",
       "      <th>53870</th>\n",
       "      <td>dairy</td>\n",
       "      <td>dairy</td>\n",
       "      <td>dairy_dairy</td>\n",
       "      <td>1</td>\n",
       "    </tr>\n",
       "    <tr>\n",
       "      <th>53871</th>\n",
       "      <td>dairy</td>\n",
       "      <td>dairy</td>\n",
       "      <td>dairy_dairy</td>\n",
       "      <td>1</td>\n",
       "    </tr>\n",
       "    <tr>\n",
       "      <th>53872</th>\n",
       "      <td>dairy</td>\n",
       "      <td>dairy</td>\n",
       "      <td>dairy_dairy</td>\n",
       "      <td>1</td>\n",
       "    </tr>\n",
       "    <tr>\n",
       "      <th>53873</th>\n",
       "      <td>dairy</td>\n",
       "      <td>dairy</td>\n",
       "      <td>dairy_dairy</td>\n",
       "      <td>1</td>\n",
       "    </tr>\n",
       "    <tr>\n",
       "      <th>53874</th>\n",
       "      <td>dairy</td>\n",
       "      <td>fruit</td>\n",
       "      <td>dairy_fruit</td>\n",
       "      <td>16</td>\n",
       "    </tr>\n",
       "    <tr>\n",
       "      <th>53875</th>\n",
       "      <td>fruit</td>\n",
       "      <td>checkout</td>\n",
       "      <td>fruit_checkout</td>\n",
       "      <td>0</td>\n",
       "    </tr>\n",
       "    <tr>\n",
       "      <th>53877</th>\n",
       "      <td>fruit</td>\n",
       "      <td>drinks</td>\n",
       "      <td>fruit_drinks</td>\n",
       "      <td>12</td>\n",
       "    </tr>\n",
       "    <tr>\n",
       "      <th>53878</th>\n",
       "      <td>drinks</td>\n",
       "      <td>checkout</td>\n",
       "      <td>drinks_checkout</td>\n",
       "      <td>3</td>\n",
       "    </tr>\n",
       "    <tr>\n",
       "      <th>53880</th>\n",
       "      <td>fruit</td>\n",
       "      <td>fruit</td>\n",
       "      <td>fruit_fruit</td>\n",
       "      <td>11</td>\n",
       "    </tr>\n",
       "    <tr>\n",
       "      <th>53881</th>\n",
       "      <td>fruit</td>\n",
       "      <td>fruit</td>\n",
       "      <td>fruit_fruit</td>\n",
       "      <td>11</td>\n",
       "    </tr>\n",
       "    <tr>\n",
       "      <th>53882</th>\n",
       "      <td>fruit</td>\n",
       "      <td>dairy</td>\n",
       "      <td>fruit_dairy</td>\n",
       "      <td>7</td>\n",
       "    </tr>\n",
       "    <tr>\n",
       "      <th>53883</th>\n",
       "      <td>dairy</td>\n",
       "      <td>dairy</td>\n",
       "      <td>dairy_dairy</td>\n",
       "      <td>1</td>\n",
       "    </tr>\n",
       "    <tr>\n",
       "      <th>53884</th>\n",
       "      <td>dairy</td>\n",
       "      <td>dairy</td>\n",
       "      <td>dairy_dairy</td>\n",
       "      <td>1</td>\n",
       "    </tr>\n",
       "    <tr>\n",
       "      <th>53885</th>\n",
       "      <td>dairy</td>\n",
       "      <td>dairy</td>\n",
       "      <td>dairy_dairy</td>\n",
       "      <td>1</td>\n",
       "    </tr>\n",
       "    <tr>\n",
       "      <th>53886</th>\n",
       "      <td>dairy</td>\n",
       "      <td>dairy</td>\n",
       "      <td>dairy_dairy</td>\n",
       "      <td>1</td>\n",
       "    </tr>\n",
       "    <tr>\n",
       "      <th>53887</th>\n",
       "      <td>dairy</td>\n",
       "      <td>dairy</td>\n",
       "      <td>dairy_dairy</td>\n",
       "      <td>1</td>\n",
       "    </tr>\n",
       "    <tr>\n",
       "      <th>53888</th>\n",
       "      <td>dairy</td>\n",
       "      <td>dairy</td>\n",
       "      <td>dairy_dairy</td>\n",
       "      <td>1</td>\n",
       "    </tr>\n",
       "    <tr>\n",
       "      <th>53889</th>\n",
       "      <td>dairy</td>\n",
       "      <td>dairy</td>\n",
       "      <td>dairy_dairy</td>\n",
       "      <td>1</td>\n",
       "    </tr>\n",
       "    <tr>\n",
       "      <th>53890</th>\n",
       "      <td>dairy</td>\n",
       "      <td>fruit</td>\n",
       "      <td>dairy_fruit</td>\n",
       "      <td>16</td>\n",
       "    </tr>\n",
       "    <tr>\n",
       "      <th>53891</th>\n",
       "      <td>fruit</td>\n",
       "      <td>fruit</td>\n",
       "      <td>fruit_fruit</td>\n",
       "      <td>11</td>\n",
       "    </tr>\n",
       "    <tr>\n",
       "      <th>53892</th>\n",
       "      <td>fruit</td>\n",
       "      <td>dairy</td>\n",
       "      <td>fruit_dairy</td>\n",
       "      <td>7</td>\n",
       "    </tr>\n",
       "    <tr>\n",
       "      <th>53893</th>\n",
       "      <td>dairy</td>\n",
       "      <td>dairy</td>\n",
       "      <td>dairy_dairy</td>\n",
       "      <td>1</td>\n",
       "    </tr>\n",
       "    <tr>\n",
       "      <th>53894</th>\n",
       "      <td>dairy</td>\n",
       "      <td>dairy</td>\n",
       "      <td>dairy_dairy</td>\n",
       "      <td>1</td>\n",
       "    </tr>\n",
       "    <tr>\n",
       "      <th>53895</th>\n",
       "      <td>dairy</td>\n",
       "      <td>dairy</td>\n",
       "      <td>dairy_dairy</td>\n",
       "      <td>1</td>\n",
       "    </tr>\n",
       "    <tr>\n",
       "      <th>53896</th>\n",
       "      <td>dairy</td>\n",
       "      <td>dairy</td>\n",
       "      <td>dairy_dairy</td>\n",
       "      <td>1</td>\n",
       "    </tr>\n",
       "    <tr>\n",
       "      <th>53897</th>\n",
       "      <td>dairy</td>\n",
       "      <td>dairy</td>\n",
       "      <td>dairy_dairy</td>\n",
       "      <td>1</td>\n",
       "    </tr>\n",
       "    <tr>\n",
       "      <th>53898</th>\n",
       "      <td>dairy</td>\n",
       "      <td>dairy</td>\n",
       "      <td>dairy_dairy</td>\n",
       "      <td>1</td>\n",
       "    </tr>\n",
       "    <tr>\n",
       "      <th>53899</th>\n",
       "      <td>dairy</td>\n",
       "      <td>checkout</td>\n",
       "      <td>dairy_checkout</td>\n",
       "      <td>8</td>\n",
       "    </tr>\n",
       "    <tr>\n",
       "      <th>53901</th>\n",
       "      <td>spices</td>\n",
       "      <td>checkout</td>\n",
       "      <td>spices_checkout</td>\n",
       "      <td>10</td>\n",
       "    </tr>\n",
       "  </tbody>\n",
       "</table>\n",
       "<p>46486 rows × 4 columns</p>\n",
       "</div>"
      ],
      "text/plain": [
       "      location       _to       transition  trans_fac\n",
       "0        fruit  checkout   fruit_checkout          0\n",
       "2        dairy     dairy      dairy_dairy          1\n",
       "3        dairy     dairy      dairy_dairy          1\n",
       "4        dairy     dairy      dairy_dairy          1\n",
       "5        dairy     dairy      dairy_dairy          1\n",
       "6        dairy     dairy      dairy_dairy          1\n",
       "7        dairy    drinks     dairy_drinks          2\n",
       "8       drinks  checkout  drinks_checkout          3\n",
       "10      spices    spices    spices_spices          4\n",
       "11      spices    spices    spices_spices          4\n",
       "12      spices     dairy     spices_dairy          5\n",
       "13       dairy     dairy      dairy_dairy          1\n",
       "14       dairy     dairy      dairy_dairy          1\n",
       "15       dairy    drinks     dairy_drinks          2\n",
       "16      drinks    drinks    drinks_drinks          6\n",
       "17      drinks    drinks    drinks_drinks          6\n",
       "18      drinks    drinks    drinks_drinks          6\n",
       "19      drinks  checkout  drinks_checkout          3\n",
       "21       fruit     dairy      fruit_dairy          7\n",
       "22       dairy     dairy      dairy_dairy          1\n",
       "23       dairy     dairy      dairy_dairy          1\n",
       "24       dairy  checkout   dairy_checkout          8\n",
       "26      spices     dairy     spices_dairy          5\n",
       "27       dairy     dairy      dairy_dairy          1\n",
       "28       dairy     dairy      dairy_dairy          1\n",
       "29       dairy     dairy      dairy_dairy          1\n",
       "30       dairy     dairy      dairy_dairy          1\n",
       "31       dairy     dairy      dairy_dairy          1\n",
       "32       dairy     dairy      dairy_dairy          1\n",
       "33       dairy     dairy      dairy_dairy          1\n",
       "...        ...       ...              ...        ...\n",
       "53869    dairy     dairy      dairy_dairy          1\n",
       "53870    dairy     dairy      dairy_dairy          1\n",
       "53871    dairy     dairy      dairy_dairy          1\n",
       "53872    dairy     dairy      dairy_dairy          1\n",
       "53873    dairy     dairy      dairy_dairy          1\n",
       "53874    dairy     fruit      dairy_fruit         16\n",
       "53875    fruit  checkout   fruit_checkout          0\n",
       "53877    fruit    drinks     fruit_drinks         12\n",
       "53878   drinks  checkout  drinks_checkout          3\n",
       "53880    fruit     fruit      fruit_fruit         11\n",
       "53881    fruit     fruit      fruit_fruit         11\n",
       "53882    fruit     dairy      fruit_dairy          7\n",
       "53883    dairy     dairy      dairy_dairy          1\n",
       "53884    dairy     dairy      dairy_dairy          1\n",
       "53885    dairy     dairy      dairy_dairy          1\n",
       "53886    dairy     dairy      dairy_dairy          1\n",
       "53887    dairy     dairy      dairy_dairy          1\n",
       "53888    dairy     dairy      dairy_dairy          1\n",
       "53889    dairy     dairy      dairy_dairy          1\n",
       "53890    dairy     fruit      dairy_fruit         16\n",
       "53891    fruit     fruit      fruit_fruit         11\n",
       "53892    fruit     dairy      fruit_dairy          7\n",
       "53893    dairy     dairy      dairy_dairy          1\n",
       "53894    dairy     dairy      dairy_dairy          1\n",
       "53895    dairy     dairy      dairy_dairy          1\n",
       "53896    dairy     dairy      dairy_dairy          1\n",
       "53897    dairy     dairy      dairy_dairy          1\n",
       "53898    dairy     dairy      dairy_dairy          1\n",
       "53899    dairy  checkout   dairy_checkout          8\n",
       "53901   spices  checkout  spices_checkout         10\n",
       "\n",
       "[46486 rows x 4 columns]"
      ]
     },
     "execution_count": 224,
     "metadata": {},
     "output_type": "execute_result"
    }
   ],
   "source": [
    "df_trans"
   ]
  },
  {
   "cell_type": "code",
   "execution_count": 156,
   "metadata": {},
   "outputs": [],
   "source": [
    "labels, trans = pd.factorize(df_trans['transition'])\n",
    "df_trans['trans_fac'] = labels"
   ]
  },
  {
   "cell_type": "code",
   "execution_count": 157,
   "metadata": {},
   "outputs": [
    {
     "data": {
      "text/plain": [
       "46486"
      ]
     },
     "execution_count": 157,
     "metadata": {},
     "output_type": "execute_result"
    }
   ],
   "source": [
    "len(labels)"
   ]
  },
  {
   "cell_type": "code",
   "execution_count": 158,
   "metadata": {},
   "outputs": [],
   "source": [
    "trans_dict = df_trans['transition'].value_counts(ascending=True)"
   ]
  },
  {
   "cell_type": "code",
   "execution_count": 159,
   "metadata": {},
   "outputs": [
    {
     "data": {
      "text/plain": [
       "{'dairy_checkout': 1825,\n",
       " 'dairy_dairy': 13098,\n",
       " 'dairy_drinks': 1044,\n",
       " 'dairy_fruit': 891,\n",
       " 'dairy_spices': 916,\n",
       " 'drinks_checkout': 2096,\n",
       " 'drinks_dairy': 106,\n",
       " 'drinks_drinks': 5822,\n",
       " 'drinks_fruit': 856,\n",
       " 'drinks_spices': 846,\n",
       " 'fruit_checkout': 2555,\n",
       " 'fruit_dairy': 1221,\n",
       " 'fruit_drinks': 699,\n",
       " 'fruit_fruit': 7587,\n",
       " 'fruit_spices': 646,\n",
       " 'spices_checkout': 941,\n",
       " 'spices_dairy': 1213,\n",
       " 'spices_drinks': 1024,\n",
       " 'spices_fruit': 575,\n",
       " 'spices_spices': 2525}"
      ]
     },
     "execution_count": 159,
     "metadata": {},
     "output_type": "execute_result"
    }
   ],
   "source": [
    "values = [value for (key, value) in sorted(trans_dict.items())]\n",
    "keys = [key for (key, value) in sorted(trans_dict.items())]\n",
    "sorted_trans_dict = dict(zip(keys, values))\n",
    "sorted_trans_dict"
   ]
  },
  {
   "cell_type": "code",
   "execution_count": 160,
   "metadata": {},
   "outputs": [
    {
     "data": {
      "text/html": [
       "<div>\n",
       "<style scoped>\n",
       "    .dataframe tbody tr th:only-of-type {\n",
       "        vertical-align: middle;\n",
       "    }\n",
       "\n",
       "    .dataframe tbody tr th {\n",
       "        vertical-align: top;\n",
       "    }\n",
       "\n",
       "    .dataframe thead th {\n",
       "        text-align: right;\n",
       "    }\n",
       "</style>\n",
       "<table border=\"1\" class=\"dataframe\">\n",
       "  <thead>\n",
       "    <tr style=\"text-align: right;\">\n",
       "      <th></th>\n",
       "      <th>date</th>\n",
       "      <th>location</th>\n",
       "      <th>weekday</th>\n",
       "      <th>customer_unique</th>\n",
       "      <th>year</th>\n",
       "      <th>month</th>\n",
       "      <th>day</th>\n",
       "      <th>hour</th>\n",
       "      <th>minute</th>\n",
       "      <th>customer_time_spend</th>\n",
       "    </tr>\n",
       "  </thead>\n",
       "  <tbody>\n",
       "    <tr>\n",
       "      <th>0</th>\n",
       "      <td>2019-09-06 17:19:00</td>\n",
       "      <td>fruit</td>\n",
       "      <td>Friday</td>\n",
       "      <td>1000Friday</td>\n",
       "      <td>2019</td>\n",
       "      <td>9</td>\n",
       "      <td>6</td>\n",
       "      <td>17</td>\n",
       "      <td>19</td>\n",
       "      <td>0 days 00:01:00.000000000</td>\n",
       "    </tr>\n",
       "    <tr>\n",
       "      <th>1</th>\n",
       "      <td>2019-09-06 17:20:00</td>\n",
       "      <td>checkout</td>\n",
       "      <td>Friday</td>\n",
       "      <td>1000Friday</td>\n",
       "      <td>2019</td>\n",
       "      <td>9</td>\n",
       "      <td>6</td>\n",
       "      <td>17</td>\n",
       "      <td>20</td>\n",
       "      <td>0 days 00:01:00.000000000</td>\n",
       "    </tr>\n",
       "    <tr>\n",
       "      <th>2</th>\n",
       "      <td>2019-09-02 17:44:00</td>\n",
       "      <td>dairy</td>\n",
       "      <td>Monday</td>\n",
       "      <td>1000Monday</td>\n",
       "      <td>2019</td>\n",
       "      <td>9</td>\n",
       "      <td>2</td>\n",
       "      <td>17</td>\n",
       "      <td>44</td>\n",
       "      <td>0 days 00:07:00.000000000</td>\n",
       "    </tr>\n",
       "    <tr>\n",
       "      <th>3</th>\n",
       "      <td>2019-09-02 17:45:00</td>\n",
       "      <td>dairy</td>\n",
       "      <td>Monday</td>\n",
       "      <td>1000Monday</td>\n",
       "      <td>2019</td>\n",
       "      <td>9</td>\n",
       "      <td>2</td>\n",
       "      <td>17</td>\n",
       "      <td>45</td>\n",
       "      <td>0 days 00:07:00.000000000</td>\n",
       "    </tr>\n",
       "    <tr>\n",
       "      <th>4</th>\n",
       "      <td>2019-09-02 17:46:00</td>\n",
       "      <td>dairy</td>\n",
       "      <td>Monday</td>\n",
       "      <td>1000Monday</td>\n",
       "      <td>2019</td>\n",
       "      <td>9</td>\n",
       "      <td>2</td>\n",
       "      <td>17</td>\n",
       "      <td>46</td>\n",
       "      <td>0 days 00:07:00.000000000</td>\n",
       "    </tr>\n",
       "  </tbody>\n",
       "</table>\n",
       "</div>"
      ],
      "text/plain": [
       "                  date  location weekday customer_unique  year  month  day  \\\n",
       "0  2019-09-06 17:19:00     fruit  Friday      1000Friday  2019      9    6   \n",
       "1  2019-09-06 17:20:00  checkout  Friday      1000Friday  2019      9    6   \n",
       "2  2019-09-02 17:44:00     dairy  Monday      1000Monday  2019      9    2   \n",
       "3  2019-09-02 17:45:00     dairy  Monday      1000Monday  2019      9    2   \n",
       "4  2019-09-02 17:46:00     dairy  Monday      1000Monday  2019      9    2   \n",
       "\n",
       "   hour  minute        customer_time_spend  \n",
       "0    17      19  0 days 00:01:00.000000000  \n",
       "1    17      20  0 days 00:01:00.000000000  \n",
       "2    17      44  0 days 00:07:00.000000000  \n",
       "3    17      45  0 days 00:07:00.000000000  \n",
       "4    17      46  0 days 00:07:00.000000000  "
      ]
     },
     "execution_count": 160,
     "metadata": {},
     "output_type": "execute_result"
    }
   ],
   "source": [
    "df_unique.head()"
   ]
  },
  {
   "cell_type": "code",
   "execution_count": null,
   "metadata": {},
   "outputs": [],
   "source": []
  },
  {
   "cell_type": "code",
   "execution_count": 161,
   "metadata": {},
   "outputs": [],
   "source": [
    "trans_matrix = pd.DataFrame.from_dict({'entrance': [0,0,0,0,0,0],\n",
    "                'fruit': [0,0,0,0,0,0], \n",
    "                'spices': [0,0,0,0,0,0],\n",
    "                'dairy': [0,0,0,0,0,0],\n",
    "                'drinks': [0,0,0,0,0,0],\n",
    "                'checkout': [0,0,0,0,0,0]})\n",
    "trans_matrix.set_index([pd.Index(['entrance', 'fruit', 'spices', 'dairy', 'drinks', 'checkout'])], inplace=True)"
   ]
  },
  {
   "cell_type": "code",
   "execution_count": 162,
   "metadata": {},
   "outputs": [
    {
     "data": {
      "text/html": [
       "<div>\n",
       "<style scoped>\n",
       "    .dataframe tbody tr th:only-of-type {\n",
       "        vertical-align: middle;\n",
       "    }\n",
       "\n",
       "    .dataframe tbody tr th {\n",
       "        vertical-align: top;\n",
       "    }\n",
       "\n",
       "    .dataframe thead th {\n",
       "        text-align: right;\n",
       "    }\n",
       "</style>\n",
       "<table border=\"1\" class=\"dataframe\">\n",
       "  <thead>\n",
       "    <tr style=\"text-align: right;\">\n",
       "      <th></th>\n",
       "      <th>entrance</th>\n",
       "      <th>fruit</th>\n",
       "      <th>spices</th>\n",
       "      <th>dairy</th>\n",
       "      <th>drinks</th>\n",
       "      <th>checkout</th>\n",
       "    </tr>\n",
       "  </thead>\n",
       "  <tbody>\n",
       "    <tr>\n",
       "      <th>entrance</th>\n",
       "      <td>0</td>\n",
       "      <td>0</td>\n",
       "      <td>0</td>\n",
       "      <td>0</td>\n",
       "      <td>0</td>\n",
       "      <td>0</td>\n",
       "    </tr>\n",
       "    <tr>\n",
       "      <th>fruit</th>\n",
       "      <td>0</td>\n",
       "      <td>0</td>\n",
       "      <td>0</td>\n",
       "      <td>0</td>\n",
       "      <td>0</td>\n",
       "      <td>0</td>\n",
       "    </tr>\n",
       "    <tr>\n",
       "      <th>spices</th>\n",
       "      <td>0</td>\n",
       "      <td>0</td>\n",
       "      <td>0</td>\n",
       "      <td>0</td>\n",
       "      <td>0</td>\n",
       "      <td>0</td>\n",
       "    </tr>\n",
       "    <tr>\n",
       "      <th>dairy</th>\n",
       "      <td>0</td>\n",
       "      <td>0</td>\n",
       "      <td>0</td>\n",
       "      <td>0</td>\n",
       "      <td>0</td>\n",
       "      <td>0</td>\n",
       "    </tr>\n",
       "    <tr>\n",
       "      <th>drinks</th>\n",
       "      <td>0</td>\n",
       "      <td>0</td>\n",
       "      <td>0</td>\n",
       "      <td>0</td>\n",
       "      <td>0</td>\n",
       "      <td>0</td>\n",
       "    </tr>\n",
       "    <tr>\n",
       "      <th>checkout</th>\n",
       "      <td>0</td>\n",
       "      <td>0</td>\n",
       "      <td>0</td>\n",
       "      <td>0</td>\n",
       "      <td>0</td>\n",
       "      <td>0</td>\n",
       "    </tr>\n",
       "  </tbody>\n",
       "</table>\n",
       "</div>"
      ],
      "text/plain": [
       "          entrance  fruit  spices  dairy  drinks  checkout\n",
       "entrance         0      0       0      0       0         0\n",
       "fruit            0      0       0      0       0         0\n",
       "spices           0      0       0      0       0         0\n",
       "dairy            0      0       0      0       0         0\n",
       "drinks           0      0       0      0       0         0\n",
       "checkout         0      0       0      0       0         0"
      ]
     },
     "execution_count": 162,
     "metadata": {},
     "output_type": "execute_result"
    }
   ],
   "source": [
    "trans_matrix"
   ]
  },
  {
   "cell_type": "code",
   "execution_count": 163,
   "metadata": {},
   "outputs": [],
   "source": [
    "for f in sorted_trans_dict.items():\n",
    "    origin = str(f[0].split('_')[0])\n",
    "    dest = str(f[0].split('_')[1])\n",
    "    count_ = int(f[1])\n",
    "    trans_matrix.loc[origin][dest] = count_"
   ]
  },
  {
   "cell_type": "code",
   "execution_count": 164,
   "metadata": {},
   "outputs": [],
   "source": [
    "row_sum = trans_matrix.sum(axis=1)"
   ]
  },
  {
   "cell_type": "code",
   "execution_count": 165,
   "metadata": {},
   "outputs": [
    {
     "data": {
      "text/html": [
       "<div>\n",
       "<style scoped>\n",
       "    .dataframe tbody tr th:only-of-type {\n",
       "        vertical-align: middle;\n",
       "    }\n",
       "\n",
       "    .dataframe tbody tr th {\n",
       "        vertical-align: top;\n",
       "    }\n",
       "\n",
       "    .dataframe thead th {\n",
       "        text-align: right;\n",
       "    }\n",
       "</style>\n",
       "<table border=\"1\" class=\"dataframe\">\n",
       "  <thead>\n",
       "    <tr style=\"text-align: right;\">\n",
       "      <th></th>\n",
       "      <th>entrance</th>\n",
       "      <th>fruit</th>\n",
       "      <th>spices</th>\n",
       "      <th>dairy</th>\n",
       "      <th>drinks</th>\n",
       "      <th>checkout</th>\n",
       "    </tr>\n",
       "  </thead>\n",
       "  <tbody>\n",
       "    <tr>\n",
       "      <th>entrance</th>\n",
       "      <td>NaN</td>\n",
       "      <td>0.000000</td>\n",
       "      <td>0.000000</td>\n",
       "      <td>0.000000</td>\n",
       "      <td>0.000000</td>\n",
       "      <td>NaN</td>\n",
       "    </tr>\n",
       "    <tr>\n",
       "      <th>fruit</th>\n",
       "      <td>NaN</td>\n",
       "      <td>0.597025</td>\n",
       "      <td>0.091590</td>\n",
       "      <td>0.050129</td>\n",
       "      <td>0.088012</td>\n",
       "      <td>NaN</td>\n",
       "    </tr>\n",
       "    <tr>\n",
       "      <th>spices</th>\n",
       "      <td>NaN</td>\n",
       "      <td>0.050834</td>\n",
       "      <td>0.402198</td>\n",
       "      <td>0.051536</td>\n",
       "      <td>0.086983</td>\n",
       "      <td>NaN</td>\n",
       "    </tr>\n",
       "    <tr>\n",
       "      <th>dairy</th>\n",
       "      <td>NaN</td>\n",
       "      <td>0.096081</td>\n",
       "      <td>0.193214</td>\n",
       "      <td>0.736919</td>\n",
       "      <td>0.010899</td>\n",
       "      <td>NaN</td>\n",
       "    </tr>\n",
       "    <tr>\n",
       "      <th>drinks</th>\n",
       "      <td>NaN</td>\n",
       "      <td>0.055005</td>\n",
       "      <td>0.163109</td>\n",
       "      <td>0.058737</td>\n",
       "      <td>0.598602</td>\n",
       "      <td>NaN</td>\n",
       "    </tr>\n",
       "    <tr>\n",
       "      <th>checkout</th>\n",
       "      <td>NaN</td>\n",
       "      <td>0.201054</td>\n",
       "      <td>0.149888</td>\n",
       "      <td>0.102678</td>\n",
       "      <td>0.215505</td>\n",
       "      <td>1.0</td>\n",
       "    </tr>\n",
       "  </tbody>\n",
       "</table>\n",
       "</div>"
      ],
      "text/plain": [
       "          entrance     fruit    spices     dairy    drinks  checkout\n",
       "entrance       NaN  0.000000  0.000000  0.000000  0.000000       NaN\n",
       "fruit          NaN  0.597025  0.091590  0.050129  0.088012       NaN\n",
       "spices         NaN  0.050834  0.402198  0.051536  0.086983       NaN\n",
       "dairy          NaN  0.096081  0.193214  0.736919  0.010899       NaN\n",
       "drinks         NaN  0.055005  0.163109  0.058737  0.598602       NaN\n",
       "checkout       NaN  0.201054  0.149888  0.102678  0.215505       1.0"
      ]
     },
     "execution_count": 165,
     "metadata": {},
     "output_type": "execute_result"
    }
   ],
   "source": [
    "prob_matrix = trans_matrix.T/row_sum\n",
    "prob_matrix.loc['checkout']['checkout']=1\n",
    "#prob_matrix.loc['entrance']['entrance']=1\n",
    "prob_matrix"
   ]
  },
  {
   "cell_type": "code",
   "execution_count": 166,
   "metadata": {},
   "outputs": [],
   "source": [
    "prob_matrix.fillna(0, inplace=True)"
   ]
  },
  {
   "cell_type": "code",
   "execution_count": 167,
   "metadata": {},
   "outputs": [
    {
     "data": {
      "text/plain": [
       "1.0"
      ]
     },
     "execution_count": 167,
     "metadata": {},
     "output_type": "execute_result"
    }
   ],
   "source": [
    "prob_dict = dict(prob_matrix)\n",
    "# check:\n",
    "prob_matrix.T.loc['spices'].sum()"
   ]
  },
  {
   "cell_type": "code",
   "execution_count": 168,
   "metadata": {},
   "outputs": [
    {
     "data": {
      "text/html": [
       "<div>\n",
       "<style scoped>\n",
       "    .dataframe tbody tr th:only-of-type {\n",
       "        vertical-align: middle;\n",
       "    }\n",
       "\n",
       "    .dataframe tbody tr th {\n",
       "        vertical-align: top;\n",
       "    }\n",
       "\n",
       "    .dataframe thead th {\n",
       "        text-align: right;\n",
       "    }\n",
       "</style>\n",
       "<table border=\"1\" class=\"dataframe\">\n",
       "  <thead>\n",
       "    <tr style=\"text-align: right;\">\n",
       "      <th></th>\n",
       "      <th>entrance</th>\n",
       "      <th>fruit</th>\n",
       "      <th>spices</th>\n",
       "      <th>dairy</th>\n",
       "      <th>drinks</th>\n",
       "      <th>checkout</th>\n",
       "    </tr>\n",
       "  </thead>\n",
       "  <tbody>\n",
       "    <tr>\n",
       "      <th>entrance</th>\n",
       "      <td>0.0</td>\n",
       "      <td>0.000000</td>\n",
       "      <td>0.000000</td>\n",
       "      <td>0.000000</td>\n",
       "      <td>0.000000</td>\n",
       "      <td>0.0</td>\n",
       "    </tr>\n",
       "    <tr>\n",
       "      <th>fruit</th>\n",
       "      <td>0.0</td>\n",
       "      <td>0.597025</td>\n",
       "      <td>0.091590</td>\n",
       "      <td>0.050129</td>\n",
       "      <td>0.088012</td>\n",
       "      <td>0.0</td>\n",
       "    </tr>\n",
       "    <tr>\n",
       "      <th>spices</th>\n",
       "      <td>0.0</td>\n",
       "      <td>0.050834</td>\n",
       "      <td>0.402198</td>\n",
       "      <td>0.051536</td>\n",
       "      <td>0.086983</td>\n",
       "      <td>0.0</td>\n",
       "    </tr>\n",
       "    <tr>\n",
       "      <th>dairy</th>\n",
       "      <td>0.0</td>\n",
       "      <td>0.096081</td>\n",
       "      <td>0.193214</td>\n",
       "      <td>0.736919</td>\n",
       "      <td>0.010899</td>\n",
       "      <td>0.0</td>\n",
       "    </tr>\n",
       "    <tr>\n",
       "      <th>drinks</th>\n",
       "      <td>0.0</td>\n",
       "      <td>0.055005</td>\n",
       "      <td>0.163109</td>\n",
       "      <td>0.058737</td>\n",
       "      <td>0.598602</td>\n",
       "      <td>0.0</td>\n",
       "    </tr>\n",
       "    <tr>\n",
       "      <th>checkout</th>\n",
       "      <td>0.0</td>\n",
       "      <td>0.201054</td>\n",
       "      <td>0.149888</td>\n",
       "      <td>0.102678</td>\n",
       "      <td>0.215505</td>\n",
       "      <td>1.0</td>\n",
       "    </tr>\n",
       "  </tbody>\n",
       "</table>\n",
       "</div>"
      ],
      "text/plain": [
       "          entrance     fruit    spices     dairy    drinks  checkout\n",
       "entrance       0.0  0.000000  0.000000  0.000000  0.000000       0.0\n",
       "fruit          0.0  0.597025  0.091590  0.050129  0.088012       0.0\n",
       "spices         0.0  0.050834  0.402198  0.051536  0.086983       0.0\n",
       "dairy          0.0  0.096081  0.193214  0.736919  0.010899       0.0\n",
       "drinks         0.0  0.055005  0.163109  0.058737  0.598602       0.0\n",
       "checkout       0.0  0.201054  0.149888  0.102678  0.215505       1.0"
      ]
     },
     "execution_count": 168,
     "metadata": {},
     "output_type": "execute_result"
    }
   ],
   "source": [
    "prob_matrix"
   ]
  },
  {
   "cell_type": "code",
   "execution_count": 169,
   "metadata": {},
   "outputs": [],
   "source": [
    "# add 0 probability for going to checkout from entrance\n",
    "entry_p.append(0)\n",
    "entry_p.insert(0,0)"
   ]
  },
  {
   "cell_type": "code",
   "execution_count": 172,
   "metadata": {},
   "outputs": [
    {
     "data": {
      "text/plain": [
       "[0,\n",
       " 0.3774345198119543,\n",
       " 0.2875755540631296,\n",
       " 0.18146406984553393,\n",
       " 0.15352585627938214,\n",
       " 0]"
      ]
     },
     "execution_count": 172,
     "metadata": {},
     "output_type": "execute_result"
    }
   ],
   "source": [
    "entry_p"
   ]
  },
  {
   "cell_type": "code",
   "execution_count": 173,
   "metadata": {},
   "outputs": [],
   "source": [
    "# adding entrance probability\n",
    "prob_matrix['entrance'] = entry_p"
   ]
  },
  {
   "cell_type": "raw",
   "metadata": {},
   "source": [
    "# sort order of columns\n",
    "cols = list(prob_matrix.columns)\n",
    "cols = [cols[-1]] + cols[:-1]\n",
    "prob_matrix = prob_matrix[cols]"
   ]
  },
  {
   "cell_type": "code",
   "execution_count": 195,
   "metadata": {},
   "outputs": [
    {
     "data": {
      "text/html": [
       "<div>\n",
       "<style scoped>\n",
       "    .dataframe tbody tr th:only-of-type {\n",
       "        vertical-align: middle;\n",
       "    }\n",
       "\n",
       "    .dataframe tbody tr th {\n",
       "        vertical-align: top;\n",
       "    }\n",
       "\n",
       "    .dataframe thead th {\n",
       "        text-align: right;\n",
       "    }\n",
       "</style>\n",
       "<table border=\"1\" class=\"dataframe\">\n",
       "  <thead>\n",
       "    <tr style=\"text-align: right;\">\n",
       "      <th></th>\n",
       "      <th>entrance</th>\n",
       "      <th>fruit</th>\n",
       "      <th>spices</th>\n",
       "      <th>dairy</th>\n",
       "      <th>drinks</th>\n",
       "      <th>checkout</th>\n",
       "    </tr>\n",
       "  </thead>\n",
       "  <tbody>\n",
       "    <tr>\n",
       "      <th>entrance</th>\n",
       "      <td>0.000000</td>\n",
       "      <td>0.000000</td>\n",
       "      <td>0.000000</td>\n",
       "      <td>0.000000</td>\n",
       "      <td>0.000000</td>\n",
       "      <td>0.0</td>\n",
       "    </tr>\n",
       "    <tr>\n",
       "      <th>fruit</th>\n",
       "      <td>0.377435</td>\n",
       "      <td>0.597025</td>\n",
       "      <td>0.091590</td>\n",
       "      <td>0.050129</td>\n",
       "      <td>0.088012</td>\n",
       "      <td>0.0</td>\n",
       "    </tr>\n",
       "    <tr>\n",
       "      <th>spices</th>\n",
       "      <td>0.287576</td>\n",
       "      <td>0.050834</td>\n",
       "      <td>0.402198</td>\n",
       "      <td>0.051536</td>\n",
       "      <td>0.086983</td>\n",
       "      <td>0.0</td>\n",
       "    </tr>\n",
       "    <tr>\n",
       "      <th>dairy</th>\n",
       "      <td>0.181464</td>\n",
       "      <td>0.096081</td>\n",
       "      <td>0.193214</td>\n",
       "      <td>0.736919</td>\n",
       "      <td>0.010899</td>\n",
       "      <td>0.0</td>\n",
       "    </tr>\n",
       "    <tr>\n",
       "      <th>drinks</th>\n",
       "      <td>0.153526</td>\n",
       "      <td>0.055005</td>\n",
       "      <td>0.163109</td>\n",
       "      <td>0.058737</td>\n",
       "      <td>0.598602</td>\n",
       "      <td>0.0</td>\n",
       "    </tr>\n",
       "    <tr>\n",
       "      <th>checkout</th>\n",
       "      <td>0.000000</td>\n",
       "      <td>0.201054</td>\n",
       "      <td>0.149888</td>\n",
       "      <td>0.102678</td>\n",
       "      <td>0.215505</td>\n",
       "      <td>1.0</td>\n",
       "    </tr>\n",
       "  </tbody>\n",
       "</table>\n",
       "</div>"
      ],
      "text/plain": [
       "          entrance     fruit    spices     dairy    drinks  checkout\n",
       "entrance  0.000000  0.000000  0.000000  0.000000  0.000000       0.0\n",
       "fruit     0.377435  0.597025  0.091590  0.050129  0.088012       0.0\n",
       "spices    0.287576  0.050834  0.402198  0.051536  0.086983       0.0\n",
       "dairy     0.181464  0.096081  0.193214  0.736919  0.010899       0.0\n",
       "drinks    0.153526  0.055005  0.163109  0.058737  0.598602       0.0\n",
       "checkout  0.000000  0.201054  0.149888  0.102678  0.215505       1.0"
      ]
     },
     "execution_count": 195,
     "metadata": {},
     "output_type": "execute_result"
    }
   ],
   "source": [
    "prob_matrix"
   ]
  },
  {
   "cell_type": "code",
   "execution_count": 175,
   "metadata": {},
   "outputs": [],
   "source": [
    "# Average number of steps during journey"
   ]
  },
  {
   "cell_type": "code",
   "execution_count": 176,
   "metadata": {},
   "outputs": [
    {
     "data": {
      "text/plain": [
       "7.24002686366689"
      ]
     },
     "execution_count": 176,
     "metadata": {},
     "output_type": "execute_result"
    }
   ],
   "source": [
    "# counting every stage (including ideling customers)\n",
    "(df_journey.shape[0]-1)/df_journey['customer_unique'].nunique()"
   ]
  },
  {
   "cell_type": "code",
   "execution_count": 177,
   "metadata": {},
   "outputs": [
    {
     "data": {
      "text/plain": [
       "7445"
      ]
     },
     "execution_count": 177,
     "metadata": {},
     "output_type": "execute_result"
    }
   ],
   "source": [
    "df_journey['customer_unique'].nunique()"
   ]
  },
  {
   "cell_type": "code",
   "execution_count": 178,
   "metadata": {},
   "outputs": [
    {
     "data": {
      "text/plain": [
       "7445"
      ]
     },
     "execution_count": 178,
     "metadata": {},
     "output_type": "execute_result"
    }
   ],
   "source": [
    "len(set(df_journey['customer_unique'].values))"
   ]
  },
  {
   "cell_type": "code",
   "execution_count": 179,
   "metadata": {},
   "outputs": [],
   "source": [
    "# counting every different stage"
   ]
  },
  {
   "cell_type": "code",
   "execution_count": 180,
   "metadata": {},
   "outputs": [
    {
     "data": {
      "text/plain": [
       "3.3414372061786435"
      ]
     },
     "execution_count": 180,
     "metadata": {},
     "output_type": "execute_result"
    }
   ],
   "source": [
    "df.shape[0]/df_journey['customer_unique'].nunique()"
   ]
  },
  {
   "cell_type": "code",
   "execution_count": 181,
   "metadata": {},
   "outputs": [],
   "source": [
    "# calculate probabilities at entrance\n",
    "# by counting first stage of all unique customers\n",
    "# cal. percentage value\n",
    "# use this number in markov.next_state('XXX') function "
   ]
  },
  {
   "cell_type": "code",
   "execution_count": 183,
   "metadata": {},
   "outputs": [
    {
     "data": {
      "text/plain": [
       "'checkout'"
      ]
     },
     "execution_count": 183,
     "metadata": {},
     "output_type": "execute_result"
    }
   ],
   "source": [
    "x = prob_dict.keys()\n",
    "list(x)[5]"
   ]
  },
  {
   "cell_type": "markdown",
   "metadata": {},
   "source": [
    "_______________________________"
   ]
  },
  {
   "cell_type": "code",
   "execution_count": 225,
   "metadata": {},
   "outputs": [],
   "source": [
    "class Customer(object):\n",
    "    def __init__(self, transition_prob):\n",
    "        \"\"\"\n",
    "        Initialize the MarkovChain instance.\n",
    "        Parameters\n",
    "        ----------\n",
    "        transition_prob: dict\n",
    "            A dict object representing the transition\n",
    "            probabilities in Markov Chain.\n",
    "            Should be of the form:\n",
    "                {'state1': {'state1': 0.1, 'state2': 0.4},\n",
    "                 'state2': {...}}\n",
    "        \"\"\"\n",
    "        self.transition_prob = transition_prob\n",
    "        self.states = list(transition_prob.keys())\n",
    "        self.first_state = 'entrance'\n",
    "\n",
    "    def next_state(self, current_state):\n",
    "        return np.random.choice(\n",
    "            self.states,\n",
    "            p=[self.transition_prob[current_state][next_state]\n",
    "               for next_state in self.states])\n",
    "\n",
    "    def generate_states(self, current_state='entrance', no=50):\n",
    "        future_states = []\n",
    "        for i in range(no):\n",
    "            next_state = self.next_state(current_state)\n",
    "            future_states.append(next_state)\n",
    "            current_state = next_state\n",
    "            if future_states[-1] == self.states[-1]:\n",
    "                break\n",
    "        return future_states"
   ]
  },
  {
   "cell_type": "raw",
   "metadata": {},
   "source": [
    "# namespace\n",
    "dir(list)"
   ]
  },
  {
   "cell_type": "code",
   "execution_count": 226,
   "metadata": {},
   "outputs": [],
   "source": [
    "markow = Customer(prob_dict)"
   ]
  },
  {
   "cell_type": "code",
   "execution_count": 229,
   "metadata": {},
   "outputs": [
    {
     "data": {
      "text/plain": [
       "['spices',\n",
       " 'fruit',\n",
       " 'fruit',\n",
       " 'fruit',\n",
       " 'spices',\n",
       " 'spices',\n",
       " 'drinks',\n",
       " 'drinks',\n",
       " 'checkout']"
      ]
     },
     "execution_count": 229,
     "metadata": {},
     "output_type": "execute_result"
    }
   ],
   "source": [
    "markow.generate_states()"
   ]
  },
  {
   "cell_type": "code",
   "execution_count": 223,
   "metadata": {},
   "outputs": [
    {
     "data": {
      "text/plain": [
       "{'entrance': entrance    0.000000\n",
       " fruit       0.377435\n",
       " spices      0.287576\n",
       " dairy       0.181464\n",
       " drinks      0.153526\n",
       " checkout    0.000000\n",
       " Name: entrance, dtype: float64, 'fruit': entrance    0.000000\n",
       " fruit       0.597025\n",
       " spices      0.050834\n",
       " dairy       0.096081\n",
       " drinks      0.055005\n",
       " checkout    0.201054\n",
       " Name: fruit, dtype: float64, 'spices': entrance    0.000000\n",
       " fruit       0.091590\n",
       " spices      0.402198\n",
       " dairy       0.193214\n",
       " drinks      0.163109\n",
       " checkout    0.149888\n",
       " Name: spices, dtype: float64, 'dairy': entrance    0.000000\n",
       " fruit       0.050129\n",
       " spices      0.051536\n",
       " dairy       0.736919\n",
       " drinks      0.058737\n",
       " checkout    0.102678\n",
       " Name: dairy, dtype: float64, 'drinks': entrance    0.000000\n",
       " fruit       0.088012\n",
       " spices      0.086983\n",
       " dairy       0.010899\n",
       " drinks      0.598602\n",
       " checkout    0.215505\n",
       " Name: drinks, dtype: float64, 'checkout': entrance    0.0\n",
       " fruit       0.0\n",
       " spices      0.0\n",
       " dairy       0.0\n",
       " drinks      0.0\n",
       " checkout    1.0\n",
       " Name: checkout, dtype: float64}"
      ]
     },
     "execution_count": 223,
     "metadata": {},
     "output_type": "execute_result"
    }
   ],
   "source": [
    "markov.transition_prob"
   ]
  },
  {
   "cell_type": "code",
   "execution_count": null,
   "metadata": {},
   "outputs": [],
   "source": []
  }
 ],
 "metadata": {
  "kernelspec": {
   "display_name": "Python 3",
   "language": "python",
   "name": "python3"
  },
  "language_info": {
   "codemirror_mode": {
    "name": "ipython",
    "version": 3
   },
   "file_extension": ".py",
   "mimetype": "text/x-python",
   "name": "python",
   "nbconvert_exporter": "python",
   "pygments_lexer": "ipython3",
   "version": "3.7.3"
  }
 },
 "nbformat": 4,
 "nbformat_minor": 4
}
